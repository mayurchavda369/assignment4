{
 "cells": [
  {
   "cell_type": "code",
   "execution_count": null,
   "id": "9ac012e4",
   "metadata": {},
   "outputs": [],
   "source": [
    "#What is File function in python? What is keywords to create and write file.\n",
    "# Python file object provides methods and attributes to access and manipulate files. \n",
    "# Using file objects, we can read or write any files. \n",
    "# Whenever we open a file to perform any operations on it, Python returns a file object.\n",
    "# create file - use 'x' keyward.\n",
    "# write file - use 'w' keyward.\n"
   ]
  },
  {
   "cell_type": "code",
   "execution_count": null,
   "id": "78434654",
   "metadata": {},
   "outputs": [],
   "source": [
    "# Write a Python program to read an entire text file.\n",
    "file = open(\"hello.txt\",\"w\")\n",
    "file.write('hello how are you')\n",
    "file.close()\n",
    "file=open(\"hello.txt\",\"r\")\n",
    "a=file.read()\n",
    "print(a)\n"
   ]
  },
  {
   "cell_type": "code",
   "execution_count": null,
   "id": "b2bfb2ef",
   "metadata": {},
   "outputs": [],
   "source": [
    "#Write a Python program to append text to a file and display the text. \n",
    "file = open(\"hello.txt\",\"a\")\n",
    "file.write(\"i am mayur\")\n",
    "file.close()\n",
    "file=open(\"hello.txt\",\"r\")\n",
    "b=file.read()\n",
    "print(b)"
   ]
  },
  {
   "cell_type": "code",
   "execution_count": null,
   "id": "bf0fd60d",
   "metadata": {},
   "outputs": [],
   "source": [
    "#Write a Python program to read first n lines of a file.\n",
    "file=open('hello.txt','r')\n",
    "a=file.readline()\n",
    "print(a)\n",
    "file.close()"
   ]
  },
  {
   "cell_type": "code",
   "execution_count": null,
   "id": "07fd80d3",
   "metadata": {},
   "outputs": [],
   "source": [
    "#Write a Python program to read last n lines of a file.\n",
    "file=open('hello.txt','r')\n",
    "a=file.readlines()\n",
    "b=a[-1]\n",
    "print(b)"
   ]
  },
  {
   "cell_type": "code",
   "execution_count": null,
   "id": "127e0b9c",
   "metadata": {},
   "outputs": [],
   "source": [
    "#Write a Python program to read a file line by line and store it into a list\n",
    "file=open('hello.txt','r')\n",
    "a=file.readlines()\n",
    "print(a)"
   ]
  },
  {
   "cell_type": "code",
   "execution_count": null,
   "id": "b621d928",
   "metadata": {},
   "outputs": [],
   "source": [
    "#Write a Python program to read a file line by line store it into a variable. \n",
    "file=open('hello.txt','r')\n",
    "a=file.read()\n",
    "print(a)"
   ]
  },
  {
   "cell_type": "code",
   "execution_count": null,
   "id": "69110b1a",
   "metadata": {},
   "outputs": [],
   "source": [
    "#Write a python program to find the longest words.\n"
   ]
  },
  {
   "cell_type": "code",
   "execution_count": null,
   "id": "b1a82c57",
   "metadata": {},
   "outputs": [],
   "source": [
    "#Write a Python program to count the number of lines in a text file.\n",
    "total_line=0\n",
    "file=open(\"hello.txt\",\"r\")\n",
    "for line in file:\n",
    "    total_line+=1\n",
    "print(\"no_of_line :\",total_line)"
   ]
  },
  {
   "cell_type": "code",
   "execution_count": null,
   "id": "915611ac",
   "metadata": {},
   "outputs": [],
   "source": [
    "#Write a Python program to count the frequency of words in a file.\n",
    "word_count = {}\n",
    "\n",
    "file= open('hello.txt', 'r')\n",
    "for line in file:\n",
    "    words = line.split()\n",
    "    for word in words:\n",
    "        if word in word_count:\n",
    "            word_count[word] += 1\n",
    "        else:\n",
    "            word_count[word] = 1\n",
    "\n",
    "print(\"Word frequencies:\")\n",
    "for word, count in word_count.items():\n",
    "    print(word, \":\", count)"
   ]
  },
  {
   "cell_type": "code",
   "execution_count": null,
   "id": "0b6b0544",
   "metadata": {},
   "outputs": [],
   "source": [
    "#Write a Python program to write a list to a file.\n",
    "list1= ['ok','go','hello','nice']\n",
    "\n",
    "file=open(\"hello.txt\",'a')\n",
    "for i in list1:\n",
    "    file.write(i)\n",
    "print('its done ')\n",
    "file.close()"
   ]
  },
  {
   "cell_type": "code",
   "execution_count": null,
   "id": "1b1f52eb",
   "metadata": {},
   "outputs": [],
   "source": [
    "#Write a Python program to copy the contents of a file to another file. \n",
    "main_file=\"hello.txt\"\n",
    "new_file=\"world.txt\"\n",
    "\n",
    "file=open(\"hello.txt\",\"r\")\n",
    "file1=open(\"world.txt\",\"w\")\n",
    "\n",
    "a=file.read()\n",
    "file1.write(a)\n",
    "print(\"its done\")"
   ]
  },
  {
   "cell_type": "code",
   "execution_count": null,
   "id": "82a5a481",
   "metadata": {},
   "outputs": [],
   "source": [
    "#Explain Exception handling? What is an Error in Python?\n",
    "# exception handling is basically called as error handling.\n",
    "# in python error as a unwanted exception. there are so many errors in python. ex:type error,value error,name error etc."
   ]
  },
  {
   "cell_type": "code",
   "execution_count": null,
   "id": "6eb48f00",
   "metadata": {},
   "outputs": [],
   "source": [
    "#How many except statements can a try-except block have? Name Some built-in exception classes: \n",
    "#A try-except block in Python can have multiple except statements to handle different types of exceptions.\n",
    "#There is no fixed limit to the number of except statements that can be included in a try-except block.\n",
    "#there are basic buit-in exception class:\n",
    "#ValueError: Raised when an operation receives an argument of the correct type but an inappropriate value.\n",
    "#TypeError: Raised when an operation or function is applied to an object of an inappropriate type.\n",
    "#KeyError: Raised when a dictionary key is not found.\n",
    "#NameError: Raised when a local or global name is not found.\n",
    "#IndexError: Raised when a sequence subscript is out of range.\n",
    "#ZeroDivisionError: Raised when division or modulo operation is performed with a divisor of zero.\n",
    "#These are just a few examples of the many built-in exception classes available in Python. "
   ]
  },
  {
   "cell_type": "code",
   "execution_count": null,
   "id": "6d83ea4f",
   "metadata": {},
   "outputs": [],
   "source": [
    "#When will the else part of try-except-else be executed?"
   ]
  },
  {
   "cell_type": "code",
   "execution_count": null,
   "id": "9d4fe986",
   "metadata": {},
   "outputs": [],
   "source": [
    "#Can one block of except statements handle multiple exception?\n",
    "#Yes, it is possible to handle multiple exceptions using a single except block in Python. \n",
    "#By specifying multiple exception types within parentheses and separating them with commas,\n",
    "#you can catch and handle multiple exceptions with the same block of code.\n",
    "#here are example :\n",
    "try:\n",
    "      print('10'+10)\n",
    "      print(1/0)\n",
    "except (TypeError,ZeroDivisionError):\n",
    "      print(\"Invalid input\")"
   ]
  },
  {
   "cell_type": "code",
   "execution_count": null,
   "id": "6f7bc0d2",
   "metadata": {},
   "outputs": [],
   "source": [
    "#When is the finally block executed?\n",
    "# finally block is always executed. its used only for utility purpose."
   ]
  },
  {
   "cell_type": "code",
   "execution_count": null,
   "id": "06e58d4f",
   "metadata": {},
   "outputs": [],
   "source": [
    "#What happens when „1‟== 1 is executed?\n",
    "# its executed but answer is return false.\n",
    "#In the specific example of \"1\" == 1, the string \"1\" is not equal to the integer 1 because they are different types.\n"
   ]
  },
  {
   "cell_type": "code",
   "execution_count": null,
   "id": "6aa7efb0",
   "metadata": {},
   "outputs": [],
   "source": [
    "#How Do You Handle Exceptions With Try/Except/Finally In Python? Explain with coding snippets.\n",
    "# in python try/except/finally block use to specify exception handling in try block you can write code which raise error occured\n",
    "# in exception block we can write exception error and passing message and write code which handling exception and program executed.\n",
    "# in finally block its always execute when error is raised or not.\n",
    "# coding example :\n",
    "try :\n",
    "    for i in range (int(input())):\n",
    "        print(i)\n",
    "except ValueError:\n",
    "    print(\"please write integer value\")\n",
    "finally:\n",
    "    print(\"go on\")\n"
   ]
  },
  {
   "cell_type": "code",
   "execution_count": null,
   "id": "0a891db9",
   "metadata": {},
   "outputs": [],
   "source": [
    "#Write python program that user to enter only odd numbers, else will raise an exception. \n",
    "try:\n",
    "    while True:\n",
    "        n = int(input(\"Enter an odd number: \"))\n",
    "        if number % 2 == 0:\n",
    "            raise Exception(\"Even number entered. Please enter only odd numbers.\")\n",
    "        else:\n",
    "            print(\"Valid odd number:\", n)\n",
    "            break\n",
    "except Exception as e:\n",
    "    print(\"Error:\", str(e))\n",
    "\n",
    "    "
   ]
  },
  {
   "cell_type": "code",
   "execution_count": null,
   "id": "9f936a07",
   "metadata": {},
   "outputs": [],
   "source": [
    "#What are oops concepts? Is multiple inheritance supported in java\n",
    "#oop is object oriented programing.\n",
    "#OOP focuses on the organization of data and behavior into reusable entities called objects, \n",
    "#which interact with each other to perform tasks.\n",
    "#oops principle is :\n",
    "# class and object\n",
    "# inheritance\n",
    "# encapsulation\n",
    "# polymorphism\n",
    "# abstraction"
   ]
  },
  {
   "cell_type": "code",
   "execution_count": null,
   "id": "0edf4111",
   "metadata": {},
   "outputs": [],
   "source": [
    "#How to Define a Class in Python? What Is Self? Give An Example Of A Python Class \n",
    "# class is blueprint of object.\n",
    "# its define with class classname :\n",
    "#the self parameter is a special parameter used within class methods to refer to the instance of the class.\n",
    "# self points to current instance of the class.\n",
    "class student:\n",
    "    def__init__(self):\n",
    "        print(\"this is class method\")\n",
    "\n",
    "s1=student()"
   ]
  },
  {
   "cell_type": "code",
   "execution_count": null,
   "id": "362b7f94",
   "metadata": {},
   "outputs": [],
   "source": [
    "#Write a Python class named Rectangle constructed by a length and width and a method which will compute the area of a rectangle"
   ]
  },
  {
   "cell_type": "code",
   "execution_count": 2,
   "id": "33ab0ec0",
   "metadata": {},
   "outputs": [
    {
     "name": "stdout",
     "output_type": "stream",
     "text": [
      "radius: 3\n",
      "area: 28.26\n",
      "perimeter: 18.84\n"
     ]
    }
   ],
   "source": [
    "#Write a Python class named Circle constructed by a radius and two methods \n",
    "#which will compute the area and the perimeter of a circle.\n",
    "class Circle:\n",
    "    def __init__(self, radius):\n",
    "        self.radius = radius\n",
    "\n",
    "    def calculate_area(self):\n",
    "        area = 3.14 * self.radius ** 2\n",
    "        return area\n",
    "\n",
    "    def calculate_perimeter(self):\n",
    "        perimeter = 2 * 3.14 * self.radius\n",
    "        return perimeter\n",
    "\n",
    "\n",
    "c1 = Circle(3)\n",
    "\n",
    "print(\"radius:\", c1.radius)\n",
    "print(\"area:\", c1.calculate_area())\n",
    "print(\"perimeter:\", c1.calculate_perimeter())\n"
   ]
  },
  {
   "cell_type": "code",
   "execution_count": 5,
   "id": "c1697980",
   "metadata": {},
   "outputs": [
    {
     "data": {
      "text/plain": [
       "'infinite'"
      ]
     },
     "execution_count": 5,
     "metadata": {},
     "output_type": "execute_result"
    }
   ],
   "source": [
    "#Explain Inheritance in Python with an example? What is init? Or What Is A Constructor In Python?\n",
    "# inheritance is a concept of oops. its use to code sharing and code reusability.\n",
    "# inheritance is use to one class to inherit another class. base class or parent class is inherit to dirived class or child class.\n",
    "# example of inheritance:\n",
    "class Father:\n",
    "    money=\"infinite\"\n",
    "    property=\"large\"\n",
    "    \n",
    "    def show(self):\n",
    "        print(\"this is father class\")\n",
    "class son(Father):\n",
    "    time=\"free\"\n",
    "\n",
    "s1=son()\n",
    "s1.money\n",
    "# this inheritance method call single inheritance.\n",
    "# there are 5 types of inheritance :\n",
    "# single,multiple,multilevel,hierarchical,hybrid\n",
    "# __init__() is a special method known as a constructor. It is automatically called when an object of a class is created.\n",
    "# The constructor can have additional parameters along with self to accept values that need to be assigned to the object's attributes during initialization.\n",
    "#The constructor is used to set the initial state of the object by assigning values to its attributes.\n",
    "#The constructor is called implicitly when an object is created using the class name followed by parentheses (ClassName())."
   ]
  },
  {
   "cell_type": "code",
   "execution_count": 8,
   "id": "4ce29e02",
   "metadata": {},
   "outputs": [
    {
     "name": "stdout",
     "output_type": "stream",
     "text": [
      "Name: mayur\n",
      "Age: 26\n",
      "Name: dhoni\n",
      "Age: 38\n"
     ]
    }
   ],
   "source": [
    "#What is Instantiation in terms of OOP terminology? \n",
    "#In object-oriented programming (OOP) terminology, instantiation refers to the process of creating an instance or object of a class.\n",
    "#When we instantiate a class, we are essentially creating a unique copy of that class, known as an object or instance. \n",
    "#Each instance has its own set of attributes and can independently execute methods defined in the class.\n",
    "# basically three stage : (1) memory allocation (2) object initialization (3) object creation\n",
    "# Each time a class is instantiated, a new object is created, and multiple instances can exist simultaneously. \n",
    "#Each instance is independent of others and can have different attribute values, \n",
    "#allowing for individual data representation and behavior.\n",
    "#example:\n",
    "class Player:\n",
    "    def __init__(self, name, age):\n",
    "        self.name = name\n",
    "        self.age = age\n",
    "\n",
    "    def show(self):\n",
    "        print(\"Name:\", self.name)\n",
    "        print(\"Age:\", self.age)\n",
    "\n",
    "\n",
    "p1 = Player(\"mayur\", 26)\n",
    "p2 = Player(\"dhoni\", 38)\n",
    "\n",
    "p1.show()\n",
    "p2.show()\n"
   ]
  },
  {
   "cell_type": "code",
   "execution_count": 16,
   "id": "65033914",
   "metadata": {},
   "outputs": [
    {
     "name": "stdout",
     "output_type": "stream",
     "text": [
      "class of a\n",
      "True\n"
     ]
    }
   ],
   "source": [
    "#What is used to check whether an object o is an instance of class A?\n",
    "class A:\n",
    "    def show(self):\n",
    "        print(\"class of a\")\n",
    "class O(A):\n",
    "    def game(self):\n",
    "        print(\"this is class o\")\n",
    "s1=O()\n",
    "s1.show()\n",
    "print(isinstance(s1,A))"
   ]
  },
  {
   "cell_type": "code",
   "execution_count": 18,
   "id": "262ded35",
   "metadata": {},
   "outputs": [],
   "source": [
    "#What relationship is appropriate for Course and Faculty?\n",
    "class Course:\n",
    "    pass\n",
    "class Faculty(Course):\n",
    "    pass\n",
    "#course is parent class or base class and faculty is child or derived class.\n"
   ]
  },
  {
   "cell_type": "code",
   "execution_count": null,
   "id": "52e968e6",
   "metadata": {},
   "outputs": [],
   "source": [
    "#What relationship is appropriate for Student and Person?\n",
    "class Student:\n",
    "    pass\n",
    "class Person(Student):\n",
    "    pass\n",
    "#Student is parent class or base class and Person is child or derived class."
   ]
  }
 ],
 "metadata": {
  "kernelspec": {
   "display_name": "Python 3 (ipykernel)",
   "language": "python",
   "name": "python3"
  },
  "language_info": {
   "codemirror_mode": {
    "name": "ipython",
    "version": 3
   },
   "file_extension": ".py",
   "mimetype": "text/x-python",
   "name": "python",
   "nbconvert_exporter": "python",
   "pygments_lexer": "ipython3",
   "version": "3.10.8"
  }
 },
 "nbformat": 4,
 "nbformat_minor": 5
}
